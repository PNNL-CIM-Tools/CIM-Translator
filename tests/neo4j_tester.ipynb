{
 "cells": [
  {
   "cell_type": "code",
   "execution_count": 1,
   "metadata": {},
   "outputs": [],
   "source": [
    "from cimloader.databases import ConnectionParameters\n",
    "from cimloader.databases import Neo4jConnection\n",
    "from cimloader.uploaders import Neo4jUploader"
   ]
  },
  {
   "cell_type": "code",
   "execution_count": 2,
   "metadata": {},
   "outputs": [],
   "source": [
    "# Neo4J Connection\n",
    "params = ConnectionParameters(url = \"neo4j://localhost:7687\", database=\"neo4j\",\n",
    "                               username=\"neo4j\", password=\"test1234\",\n",
    "                               container = \"gridappsd-docker-neo4j-apoc-1\")\n",
    "neo4j = Neo4jConnection(params)\n",
    "loader = Neo4jUploader(params)"
   ]
  },
  {
   "cell_type": "code",
   "execution_count": 3,
   "metadata": {},
   "outputs": [],
   "source": [
    "neo4j.connect()\n",
    "neo4j.drop_all()\n",
    "neo4j.configure()"
   ]
  },
  {
   "cell_type": "code",
   "execution_count": 4,
   "metadata": {},
   "outputs": [
    {
     "data": {
      "text/plain": [
       "([<Record terminationStatus='OK' triplesLoaded=3392 triplesParsed=3392 namespaces=None extraInfo='' callParams={'singleTx': False}>],\n",
       " <neo4j._work.summary.ResultSummary at 0x7ff2da2607c0>,\n",
       " ['terminationStatus',\n",
       "  'triplesLoaded',\n",
       "  'triplesParsed',\n",
       "  'namespaces',\n",
       "  'extraInfo',\n",
       "  'callParams'])"
      ]
     },
     "execution_count": 4,
     "metadata": {},
     "output_type": "execute_result"
    }
   ],
   "source": [
    "loader.upload_from_file(filepath=\"./test_models/\", filename=\"ieee13_seto.xml\")"
   ]
  },
  {
   "cell_type": "code",
   "execution_count": 5,
   "metadata": {},
   "outputs": [
    {
     "data": {
      "text/plain": [
       "([<Record terminationStatus='OK' triplesLoaded=2927 triplesParsed=2927 namespaces=None extraInfo='' callParams={'singleTx': False}>],\n",
       " <neo4j._work.summary.ResultSummary at 0x7ff3311f0be0>,\n",
       " ['terminationStatus',\n",
       "  'triplesLoaded',\n",
       "  'triplesParsed',\n",
       "  'namespaces',\n",
       "  'extraInfo',\n",
       "  'callParams'])"
      ]
     },
     "execution_count": 5,
     "metadata": {},
     "output_type": "execute_result"
    }
   ],
   "source": [
    "loader.upload_from_url(url=\"https://raw.githubusercontent.com/GRIDAPPSD/Powergrid-Models/feature/SETO/platform/cimxml/IEEE13_Assets.xml\")"
   ]
  }
 ],
 "metadata": {
  "kernelspec": {
   "display_name": ".venv",
   "language": "python",
   "name": "python3"
  },
  "language_info": {
   "codemirror_mode": {
    "name": "ipython",
    "version": 3
   },
   "file_extension": ".py",
   "mimetype": "text/x-python",
   "name": "python",
   "nbconvert_exporter": "python",
   "pygments_lexer": "ipython3",
   "version": "3.10.12"
  }
 },
 "nbformat": 4,
 "nbformat_minor": 4
}
