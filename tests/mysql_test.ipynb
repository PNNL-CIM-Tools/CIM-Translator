{
 "cells": [
  {
   "cell_type": "code",
   "execution_count": null,
   "metadata": {},
   "outputs": [],
   "source": [
    "from cimloader.databases import ConnectionParameters\n",
    "from cimloader.databases.mysql import MySQLConnection"
   ]
  },
  {
   "cell_type": "code",
   "execution_count": null,
   "metadata": {},
   "outputs": [],
   "source": [
    "params = ConnectionParameters(host= \"localhost\", database=\"rc4_2021\", username=\"root\", password=\"password\", cim_profile='rc4_2021', namespace=\"http://iec.ch/TC57/CIM100#\")\n",
    "mysql = MySQLConnection(params)"
   ]
  },
  {
   "cell_type": "code",
   "execution_count": null,
   "metadata": {},
   "outputs": [
    {
     "name": "stderr",
     "output_type": "stream",
     "text": [
      "Unable to create table for class DateInterval\n",
      "Unable to create table for class DecimalQuantity\n",
      "Unable to create table for class Limit\n",
      "Unable to create table for class MonthDayInterval\n",
      "Unable to create table for class Procedure\n",
      "Unable to create table for class StateVariable\n"
     ]
    }
   ],
   "source": [
    "mysql.configure()"
   ]
  },
  {
   "cell_type": "code",
   "execution_count": null,
   "metadata": {},
   "outputs": [],
   "source": [
    "import importlib\n",
    "cim_profile = 'rc4_2021'\n",
    "cim = importlib.import_module('cimgraph.data_profile.' + cim_profile)"
   ]
  },
  {
   "cell_type": "code",
   "execution_count": null,
   "metadata": {},
   "outputs": [
    {
     "name": "stdout",
     "output_type": "stream",
     "text": [
      "blazegraph init time: 0.3786984649996157\n",
      "blazegraph query time for 3909 objects: 2.756139802000689\n"
     ]
    }
   ],
   "source": [
    "from cimgraph.databases import Parameter, ConnectionParameters\n",
    "from cimgraph.databases.blazegraph.blazegraph import BlazegraphConnection\n",
    "from cimgraph.models import FeederModel\n",
    "import json\n",
    "import time\n",
    "# Blazegraph connection for running outside the container\n",
    "params = ConnectionParameters(url = \"http://localhost:8889/bigdata/namespace/kb/sparql\", cim_profile='rc4_2021')\n",
    "bg = BlazegraphConnection(params, 'rc4_2021')\n",
    "\n",
    "\n",
    "#feeder_mrid = \"_C1C3E687-6FFD-C753-582B-632A27E28507\"  # 123 bus\n",
    "# feeder_mrid = \"_49AD8E07-3BF9-A4E2-CB8F-C3722F837B62\"  # 13 bus\n",
    "# feeder_mrid = \"5B816B93-7A5F-B64C-8460-47C17D6E4B0F\" # 13 bus asets\n",
    "# feeder_mrid = \"_4F76A5F9-271D-9EB8-5E31-AA362D86F2C3\"  # 8500 node\n",
    "#feeder_mrid = \"_67AB291F-DCCD-31B7-B499-338206B9828F\" # J1\n",
    "#feeder_mrid = \"_9CE150A8-8CC5-A0F9-B67E-BBD8C79D3095\"  # R2 12.47 3\n",
    "feeder_mrid = \"_EE71F6C9-56F0-4167-A14E-7F4C71F10EAA\" #9500 node\n",
    "## Create Distributed CIM Model:\n",
    "feeder = cim.Feeder(mRID=feeder_mrid)\n",
    "start = time.perf_counter()\n",
    "network_bg = FeederModel(connection=bg, container=feeder, distributed=False, cim_profile = 'rc4_2021')\n",
    "build_time = time.perf_counter() - start\n",
    "print(\"blazegraph init time:\", build_time)\n",
    "\n",
    "\n",
    "cim_class = cim.ACLineSegment\n",
    "start = time.perf_counter()\n",
    "network_bg.get_all_edges(cim_class)\n",
    "build_time = time.perf_counter() - start\n",
    "print(\"blazegraph query time for\", len(network_bg.graph[cim_class]), \"objects:\", build_time)"
   ]
  },
  {
   "cell_type": "code",
   "execution_count": null,
   "metadata": {},
   "outputs": [],
   "source": [
    "mysql.upload_from_cimgraph(network_bg)"
   ]
  },
  {
   "cell_type": "code",
   "execution_count": null,
   "metadata": {},
   "outputs": [
    {
     "name": "stdout",
     "output_type": "stream",
     "text": [
      "('_173DFB74-F387-4F0A-8A8E-447ED35110B1', None, None, 'tpx2001208c0', None, None, None, None, None, '{\"@id\": \"_13AFD6B9-C5ED-4F3D-8B64-8DC2943C5F6A\", \"@type\": \"Location\"}', '[\"{\\\\\"@type\\\\\": \\\\\"Analog\\\\\", \\\\\"@id\\\\\": \\\\\"_9c8c5045-6662-47d0-af4a-bf54bdb11128\\\\\"}\", \"{\\\\\"@type\\\\\": \\\\\"Analog\\\\\", \\\\\"@id\\\\\": \\\\\"_ccd6fd93-35db-4a3d-a17c-4b6b3abe2702\\\\\"}\", \"{\\\\\"@type\\\\\": \\\\\"Analog\\\\\", \\\\\"@id\\\\\": \\\\\"_29a577b6-057f-48f1-a0e1-c52ba6d0b72d\\\\\"}\", \"{\\\\\"@type\\\\\": \\\\\"Analog\\\\\", \\\\\"@id\\\\\": \\\\\"_4a5da26f-7bb9-4be5-943b-6e4c961b99ac\\\\\"}\"]', None, None, None, None, None, None, None, None, '{\"@id\": \"_EE71F6C9-56F0-4167-A14E-7F4C71F10EAA\", \"@type\": \"Feeder\"}', None, None, None, '{\"@id\": \"_8FCD8F92-D13C-436C-9C8C-15B6121DEC70\", \"@type\": \"BaseVoltage\"}', None, '[\"{\\\\\"@type\\\\\": \\\\\"Terminal\\\\\", \\\\\"@id\\\\\": \\\\\"_7B62FE02-465D-43A8-BF62-7293C4F9EE97\\\\\"}\", \"{\\\\\"@type\\\\\": \\\\\"Terminal\\\\\", \\\\\"@id\\\\\": \\\\\"_41442059-44B8-4105-8D41-638EFE02CCAF\\\\\"}\"]', 15.24, None, None, None, None, None, None, None, None, None, '[\"{\\\\\"@type\\\\\": \\\\\"ACLineSegmentPhase\\\\\", \\\\\"@id\\\\\": \\\\\"_7588D899-01A3-41C1-BBEE-820FB9E4F0DB\\\\\"}\", \"{\\\\\"@type\\\\\": \\\\\"ACLineSegmentPhase\\\\\", \\\\\"@id\\\\\": \\\\\"_AEA9DDA2-3335-41CB-B75F-EE28287725D6\\\\\"}\"]', None, None, None, None, '{\"@id\": \"_5ED2CD6D-E328-4422-8715-A9FEFD32D97D\", \"@type\": \"PerLengthPhaseImpedance\"}', None)\n",
      "mysql query time: 0.006322975998045877\n"
     ]
    }
   ],
   "source": [
    "start = time.perf_counter()\n",
    "myresult = mysql.execute(\"SELECT * FROM ACLineSegment WHERE _mRID in ('_173DFB74-F387-4F0A-8A8E-447ED35110B1')\")\n",
    "\n",
    "\n",
    "for x in myresult:\n",
    "    print(x)\n",
    "build_time = time.perf_counter() - start\n",
    "print(\"mysql query time:\", build_time)"
   ]
  },
  {
   "cell_type": "code",
   "execution_count": null,
   "metadata": {},
   "outputs": [
    {
     "name": "stdout",
     "output_type": "stream",
     "text": [
      "mysql query time for 3909  rows in 0.021856936000403948\n"
     ]
    }
   ],
   "source": [
    "start = time.perf_counter()\n",
    "myresult = mysql.execute(\"\"\"SELECT * FROM ACLineSegment WHERE _EquipmentContainer->'$.\"@id\"' = '_EE71F6C9-56F0-4167-A14E-7F4C71F10EAA' \"\"\")\n",
    "\n",
    "\n",
    "# for x in myresult:\n",
    "#     print(x)\n",
    "build_time = time.perf_counter() - start\n",
    "print(\"mysql query time for\", len(myresult), \" rows in\", build_time)"
   ]
  }
 ],
 "metadata": {
  "kernelspec": {
   "display_name": ".venv",
   "language": "python",
   "name": "python3"
  },
  "language_info": {
   "codemirror_mode": {
    "name": "ipython",
    "version": 3
   },
   "file_extension": ".py",
   "mimetype": "text/x-python",
   "name": "python",
   "nbconvert_exporter": "python",
   "pygments_lexer": "ipython3",
   "version": "3.10.12"
  },
  "orig_nbformat": 4
 },
 "nbformat": 4,
 "nbformat_minor": 2
}
