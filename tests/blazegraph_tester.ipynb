{
 "cells": [
  {
   "cell_type": "code",
   "execution_count": 1,
   "metadata": {},
   "outputs": [],
   "source": [
    "from cimloader.databases import ConnectionParameters\n",
    "from cimloader.databases import BlazegraphConnection\n",
    "from cimloader.uploaders import BlazegraphUploader"
   ]
  },
  {
   "cell_type": "code",
   "execution_count": 2,
   "metadata": {},
   "outputs": [],
   "source": [
    "params = ConnectionParameters(url = \"http://localhost:8889/bigdata/namespace/kb/sparql\")\n",
    "blazegraph = BlazegraphConnection(params)\n",
    "loader = BlazegraphUploader(params)"
   ]
  },
  {
   "cell_type": "code",
   "execution_count": 3,
   "metadata": {},
   "outputs": [],
   "source": [
    "blazegraph.drop_all()"
   ]
  },
  {
   "cell_type": "code",
   "execution_count": 4,
   "metadata": {},
   "outputs": [
    {
     "name": "stdout",
     "output_type": "stream",
     "text": [
      "HTTP/1.1 100 Continue\n",
      "\n",
      "HTTP/1.1 200 OK\n",
      "Content-Type: application/xml;charset=iso-8859-1\n",
      "Content-Length: 62\n",
      "Server: Jetty(9.4.18.v20190429)\n",
      "\n",
      "<?xml version=\"1.0\"?><data modified=\"3388\" milliseconds=\"32\"/>"
     ]
    }
   ],
   "source": [
    "loader.upload_from_file(filepath='./test_models', filename='ieee13_2021.xml')"
   ]
  },
  {
   "cell_type": "code",
   "execution_count": 5,
   "metadata": {},
   "outputs": [
    {
     "name": "stdout",
     "output_type": "stream",
     "text": [
      "HTTP/1.1 100 Continue\n",
      "\n",
      "HTTP/1.1 200 OK\n",
      "Content-Type: application/xml;charset=iso-8859-1\n",
      "Content-Length: 62\n",
      "Server: Jetty(9.4.18.v20190429)\n",
      "\n",
      "<?xml version=\"1.0\"?><data modified=\"3392\" milliseconds=\"33\"/>"
     ]
    }
   ],
   "source": [
    "loader.upload_from_file(filepath='./test_models', filename='ieee13_seto.xml')"
   ]
  },
  {
   "cell_type": "code",
   "execution_count": null,
   "metadata": {},
   "outputs": [],
   "source": []
  }
 ],
 "metadata": {
  "kernelspec": {
   "display_name": ".venv",
   "language": "python",
   "name": "python3"
  },
  "language_info": {
   "codemirror_mode": {
    "name": "ipython",
    "version": 3
   },
   "file_extension": ".py",
   "mimetype": "text/x-python",
   "name": "python",
   "nbconvert_exporter": "python",
   "pygments_lexer": "ipython3",
   "version": "3.10.12"
  }
 },
 "nbformat": 4,
 "nbformat_minor": 2
}
